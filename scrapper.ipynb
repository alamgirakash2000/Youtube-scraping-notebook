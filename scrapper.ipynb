{
 "cells": [
  {
   "cell_type": "markdown",
   "id": "91fb5699",
   "metadata": {},
   "source": [
    "# YouTube Scraping using Selenium\n",
    "\n",
    "This is a web sraping project. In this project, we will scrap Youtube trending videos data and then analyze it. This projects usages Selenium web driver for scrapping. Everytime this notebook run, it will update the current trending data on the CSV file and show the data in pandas dataframe."
   ]
  },
  {
   "cell_type": "markdown",
   "id": "a2e6e55a",
   "metadata": {},
   "source": [
    "We need to install selenium before import it"
   ]
  },
  {
   "cell_type": "code",
   "execution_count": 1,
   "id": "768770e3",
   "metadata": {
    "scrolled": true
   },
   "outputs": [
    {
     "name": "stdout",
     "output_type": "stream",
     "text": [
      "Requirement already satisfied: selenium in c:\\users\\alamgir\\anaconda3\\lib\\site-packages (3.141.0)\n",
      "Requirement already satisfied: urllib3 in c:\\users\\alamgir\\anaconda3\\lib\\site-packages (from selenium) (1.26.4)\n",
      "Requirement already satisfied: webdriver-manager in c:\\users\\alamgir\\anaconda3\\lib\\site-packages (3.5.2)\n",
      "Requirement already satisfied: crayons in c:\\users\\alamgir\\anaconda3\\lib\\site-packages (from webdriver-manager) (0.4.0)\n",
      "Requirement already satisfied: configparser in c:\\users\\alamgir\\anaconda3\\lib\\site-packages (from webdriver-manager) (5.2.0)\n",
      "Requirement already satisfied: requests in c:\\users\\alamgir\\anaconda3\\lib\\site-packages (from webdriver-manager) (2.25.1)\n",
      "Requirement already satisfied: colorama in c:\\users\\alamgir\\anaconda3\\lib\\site-packages (from crayons->webdriver-manager) (0.4.4)\n",
      "Requirement already satisfied: chardet<5,>=3.0.2 in c:\\users\\alamgir\\anaconda3\\lib\\site-packages (from requests->webdriver-manager) (4.0.0)\n",
      "Requirement already satisfied: certifi>=2017.4.17 in c:\\users\\alamgir\\anaconda3\\lib\\site-packages (from requests->webdriver-manager) (2020.12.5)\n",
      "Requirement already satisfied: idna<3,>=2.5 in c:\\users\\alamgir\\anaconda3\\lib\\site-packages (from requests->webdriver-manager) (2.10)\n",
      "Requirement already satisfied: urllib3<1.27,>=1.21.1 in c:\\users\\alamgir\\anaconda3\\lib\\site-packages (from requests->webdriver-manager) (1.26.4)\n",
      "Installed\n"
     ]
    }
   ],
   "source": [
    "!pip install selenium\n",
    "!pip install webdriver-manager\n",
    "print(\"Installed\")"
   ]
  },
  {
   "cell_type": "markdown",
   "id": "7aa3e2b8",
   "metadata": {},
   "source": [
    "### Importing required packages\n",
    "We need to use some packages to do this job. So, here importing that packages to use."
   ]
  },
  {
   "cell_type": "code",
   "execution_count": 6,
   "id": "fe39a4e0",
   "metadata": {},
   "outputs": [],
   "source": [
    "from selenium import webdriver\n",
    "from webdriver_manager.chrome import ChromeDriverManager\n",
    "from selenium.webdriver.common.by import By\n",
    "import pandas as pd\n",
    "import smtplib\n",
    "import json"
   ]
  },
  {
   "cell_type": "markdown",
   "id": "e16959e9",
   "metadata": {},
   "source": [
    "This selenium driver will scrap data from to website. Here we are configuring that driver for the job."
   ]
  },
  {
   "cell_type": "code",
   "execution_count": 3,
   "id": "293c7d98",
   "metadata": {},
   "outputs": [
    {
     "name": "stderr",
     "output_type": "stream",
     "text": [
      "\n",
      "\n",
      "====== WebDriver manager ======\n",
      "Current google-chrome version is 97.0.4692\n",
      "Get LATEST chromedriver version for 97.0.4692 google-chrome\n",
      "Driver [C:\\Users\\Alamgir\\.wdm\\drivers\\chromedriver\\win32\\97.0.4692.71\\chromedriver.exe] found in cache\n"
     ]
    },
    {
     "name": "stdout",
     "output_type": "stream",
     "text": [
      "Configured\n"
     ]
    }
   ],
   "source": [
    "driver = webdriver.Chrome(ChromeDriverManager().install())\n",
    "print(\"Configured\")"
   ]
  },
  {
   "cell_type": "markdown",
   "id": "ad51f072",
   "metadata": {},
   "source": [
    "### Scrapping data website\n",
    "Here, scrap data from the link: https://www.youtube.com/feed/trending and save the video container in videos variable. "
   ]
  },
  {
   "cell_type": "code",
   "execution_count": 7,
   "id": "dca13a09",
   "metadata": {},
   "outputs": [
    {
     "name": "stdout",
     "output_type": "stream",
     "text": [
      "Fetched 96 videos\n"
     ]
    }
   ],
   "source": [
    "YOUTUBE_TRENDING_URL = 'https://www.youtube.com/feed/trending'\n",
    "driver.get(YOUTUBE_TRENDING_URL)\n",
    "videos=driver.find_elements(By.TAG_NAME, 'ytd-video-renderer')\n",
    "print(f'Fetched {len(videos)} videos')"
   ]
  },
  {
   "cell_type": "markdown",
   "id": "d4d2b493",
   "metadata": {},
   "source": [
    "### Parser Function\n",
    "This is a function that will take a single video component and extract diffent informoation like Title, URL, Thumbnail URL, Channel name, Description and return them in a dictionary variable. "
   ]
  },
  {
   "cell_type": "code",
   "execution_count": 51,
   "id": "ec59d88a",
   "metadata": {},
   "outputs": [],
   "source": [
    "def parseVideo(video):\n",
    "    title_tag = video.find_element(By.ID, 'video-title')\n",
    "    title= title_tag.text\n",
    "    url = title_tag.get_attribute('href')\n",
    "    channel_name = video.find_element(By.CLASS_NAME, 'ytd-channel-name').text\n",
    "    description = video.find_element(By.ID,'description-text').text\n",
    "    metadata_block = video.find_element(By.CLASS_NAME,\"ytd-video-meta-block\")\n",
    "    metadata = metadata_block.find_elements(By.ID,'metadata-line')[0].text\n",
    "    metadata= metadata.split('\\n')\n",
    "\n",
    "    return {\n",
    "      \"Title\": title,\n",
    "      \"URL\":url,\n",
    "      'View': metadata[0],\n",
    "      \"Published\": metadata[1],\n",
    "      'Channel': channel_name,\n",
    "      'Description': description\n",
    "\n",
    "    }"
   ]
  },
  {
   "cell_type": "markdown",
   "id": "b8983955",
   "metadata": {},
   "source": [
    "### Parsing the videos\n",
    "Here we are parsing every single video by the parser function"
   ]
  },
  {
   "cell_type": "code",
   "execution_count": 52,
   "id": "31e8d868",
   "metadata": {},
   "outputs": [
    {
     "name": "stdout",
     "output_type": "stream",
     "text": [
      "20\n"
     ]
    }
   ],
   "source": [
    "videos_data = [parseVideo(video) for video in videos[0:20]]\n",
    "print(len(videos_data))"
   ]
  },
  {
   "cell_type": "markdown",
   "id": "10acd78b",
   "metadata": {},
   "source": [
    "### Converting and Saving to CSV\n",
    "Here we are converting the videos data into a Pandas dataframe and then save the dataframe as a local CSV file."
   ]
  },
  {
   "cell_type": "code",
   "execution_count": 53,
   "id": "60e58494",
   "metadata": {},
   "outputs": [
    {
     "data": {
      "text/html": [
       "<div>\n",
       "<style scoped>\n",
       "    .dataframe tbody tr th:only-of-type {\n",
       "        vertical-align: middle;\n",
       "    }\n",
       "\n",
       "    .dataframe tbody tr th {\n",
       "        vertical-align: top;\n",
       "    }\n",
       "\n",
       "    .dataframe thead th {\n",
       "        text-align: right;\n",
       "    }\n",
       "</style>\n",
       "<table border=\"1\" class=\"dataframe\">\n",
       "  <thead>\n",
       "    <tr style=\"text-align: right;\">\n",
       "      <th></th>\n",
       "      <th>Title</th>\n",
       "      <th>URL</th>\n",
       "      <th>View</th>\n",
       "      <th>Published</th>\n",
       "      <th>Channel</th>\n",
       "      <th>Description</th>\n",
       "    </tr>\n",
       "  </thead>\n",
       "  <tbody>\n",
       "    <tr>\n",
       "      <th>0</th>\n",
       "      <td>Check Hindi Dubbed Full Movie [4K Ultra HD] | ...</td>\n",
       "      <td>https://www.youtube.com/watch?v=NpJ6lnbgi_s</td>\n",
       "      <td>38M views</td>\n",
       "      <td>8 days ago</td>\n",
       "      <td>Aditya Movies</td>\n",
       "      <td>Welcome To Aditya Movies Watch &amp; Enjoy #Check ...</td>\n",
       "    </tr>\n",
       "    <tr>\n",
       "      <th>1</th>\n",
       "      <td>Muchir Bondhu Kotipoti | মুচির বন্ধু কোটিপতি |...</td>\n",
       "      <td>https://www.youtube.com/watch?v=lxn9bCIt-qE</td>\n",
       "      <td>1M views</td>\n",
       "      <td>5 days ago</td>\n",
       "      <td>Gollachut Entertainment</td>\n",
       "      <td>Drama : Muchir Bondhu Kotipoti Story : Shagori...</td>\n",
       "    </tr>\n",
       "    <tr>\n",
       "      <th>2</th>\n",
       "      <td>সত্যকে ঢেকে মিথ্যা শেখানো হচ্ছে আমাদের, সত্য জ...</td>\n",
       "      <td>https://www.youtube.com/watch?v=wOr8GVI-1OU</td>\n",
       "      <td>863K views</td>\n",
       "      <td>3 days ago</td>\n",
       "      <td>Elias Hossain</td>\n",
       "      <td>\"সত্যকে ঢেকে মিথ্যা শেখানো হচ্ছে আমাদের, সত্য ...</td>\n",
       "    </tr>\n",
       "    <tr>\n",
       "      <th>3</th>\n",
       "      <td>কাজের মেয়ে যখন বউ । Prank King । New Natok । ...</td>\n",
       "      <td>https://www.youtube.com/watch?v=G7p3lF42UAU</td>\n",
       "      <td>7.3M views</td>\n",
       "      <td>13 days ago</td>\n",
       "      <td>Sristy multimedia</td>\n",
       "      <td>কাজের মেয়ে যখন বউ । Prank King । New Natok । ...</td>\n",
       "    </tr>\n",
       "    <tr>\n",
       "      <th>4</th>\n",
       "      <td>Knowledge is more important than money || MOBI...</td>\n",
       "      <td>https://www.youtube.com/watch?v=zShWcYOxZNY</td>\n",
       "      <td>9.3M views</td>\n",
       "      <td>4 days ago</td>\n",
       "      <td>SMOL</td>\n",
       "      <td>\"An investment in knowledge pays the best inte...</td>\n",
       "    </tr>\n",
       "    <tr>\n",
       "      <th>5</th>\n",
       "      <td>REKKA | রেক্কা Full Movie In Bangla | Tamil Be...</td>\n",
       "      <td>https://www.youtube.com/watch?v=nV0q1mVO9Fg</td>\n",
       "      <td>842K views</td>\n",
       "      <td>4 days ago</td>\n",
       "      <td>WAM Movies Bengali</td>\n",
       "      <td>Rekka is a 2016 Indian Tamil-language action c...</td>\n",
       "    </tr>\n",
       "    <tr>\n",
       "      <th>6</th>\n",
       "      <td>Dashing Racer | ড্যাশিং রেসার Full Movie In Ba...</td>\n",
       "      <td>https://www.youtube.com/watch?v=tex7KhEzI1k</td>\n",
       "      <td>2.2M views</td>\n",
       "      <td>10 days ago</td>\n",
       "      <td>WAM Movies Bengali</td>\n",
       "      <td>Thirumalai, a mechanic, falls in love with Swe...</td>\n",
       "    </tr>\n",
       "    <tr>\n",
       "      <th>7</th>\n",
       "      <td>OLOT PALOT | ওলট পালট | Bangla Natok | Mosharr...</td>\n",
       "      <td>https://www.youtube.com/watch?v=z0WdUxc3ff4</td>\n",
       "      <td>5.7M views</td>\n",
       "      <td>13 days ago</td>\n",
       "      <td>CMV</td>\n",
       "      <td>Presenting S R Mozumder's Drama of “Olot Palot...</td>\n",
       "    </tr>\n",
       "    <tr>\n",
       "      <th>8</th>\n",
       "      <td>Dukaandar ne Police वाले को उल्लू बनाया 🤣🤣🤣</td>\n",
       "      <td>https://www.youtube.com/watch?v=WaKIRsLrlk0</td>\n",
       "      <td>36M views</td>\n",
       "      <td>8 days ago</td>\n",
       "      <td>grandmasti arpit</td>\n",
       "      <td></td>\n",
       "    </tr>\n",
       "    <tr>\n",
       "      <th>9</th>\n",
       "      <td>হ্যালো বেয়াইনসাব | Hello Beainshab | Episode ...</td>\n",
       "      <td>https://www.youtube.com/watch?v=FgLyZAgHVT8</td>\n",
       "      <td>1.3M views</td>\n",
       "      <td>6 days ago</td>\n",
       "      <td>Prank King Entertainment</td>\n",
       "      <td>হ্যালো বেয়াইনসাব | Hello Beainshab | Episode ...</td>\n",
       "    </tr>\n",
       "  </tbody>\n",
       "</table>\n",
       "</div>"
      ],
      "text/plain": [
       "                                               Title  \\\n",
       "0  Check Hindi Dubbed Full Movie [4K Ultra HD] | ...   \n",
       "1  Muchir Bondhu Kotipoti | মুচির বন্ধু কোটিপতি |...   \n",
       "2  সত্যকে ঢেকে মিথ্যা শেখানো হচ্ছে আমাদের, সত্য জ...   \n",
       "3  কাজের মেয়ে যখন বউ । Prank King । New Natok । ...   \n",
       "4  Knowledge is more important than money || MOBI...   \n",
       "5  REKKA | রেক্কা Full Movie In Bangla | Tamil Be...   \n",
       "6  Dashing Racer | ড্যাশিং রেসার Full Movie In Ba...   \n",
       "7  OLOT PALOT | ওলট পালট | Bangla Natok | Mosharr...   \n",
       "8        Dukaandar ne Police वाले को उल्लू बनाया 🤣🤣🤣   \n",
       "9  হ্যালো বেয়াইনসাব | Hello Beainshab | Episode ...   \n",
       "\n",
       "                                           URL        View    Published  \\\n",
       "0  https://www.youtube.com/watch?v=NpJ6lnbgi_s   38M views   8 days ago   \n",
       "1  https://www.youtube.com/watch?v=lxn9bCIt-qE    1M views   5 days ago   \n",
       "2  https://www.youtube.com/watch?v=wOr8GVI-1OU  863K views   3 days ago   \n",
       "3  https://www.youtube.com/watch?v=G7p3lF42UAU  7.3M views  13 days ago   \n",
       "4  https://www.youtube.com/watch?v=zShWcYOxZNY  9.3M views   4 days ago   \n",
       "5  https://www.youtube.com/watch?v=nV0q1mVO9Fg  842K views   4 days ago   \n",
       "6  https://www.youtube.com/watch?v=tex7KhEzI1k  2.2M views  10 days ago   \n",
       "7  https://www.youtube.com/watch?v=z0WdUxc3ff4  5.7M views  13 days ago   \n",
       "8  https://www.youtube.com/watch?v=WaKIRsLrlk0   36M views   8 days ago   \n",
       "9  https://www.youtube.com/watch?v=FgLyZAgHVT8  1.3M views   6 days ago   \n",
       "\n",
       "                    Channel                                        Description  \n",
       "0             Aditya Movies  Welcome To Aditya Movies Watch & Enjoy #Check ...  \n",
       "1   Gollachut Entertainment  Drama : Muchir Bondhu Kotipoti Story : Shagori...  \n",
       "2             Elias Hossain  \"সত্যকে ঢেকে মিথ্যা শেখানো হচ্ছে আমাদের, সত্য ...  \n",
       "3         Sristy multimedia  কাজের মেয়ে যখন বউ । Prank King । New Natok । ...  \n",
       "4                      SMOL  \"An investment in knowledge pays the best inte...  \n",
       "5        WAM Movies Bengali  Rekka is a 2016 Indian Tamil-language action c...  \n",
       "6        WAM Movies Bengali  Thirumalai, a mechanic, falls in love with Swe...  \n",
       "7                       CMV  Presenting S R Mozumder's Drama of “Olot Palot...  \n",
       "8          grandmasti arpit                                                     \n",
       "9  Prank King Entertainment  হ্যালো বেয়াইনসাব | Hello Beainshab | Episode ...  "
      ]
     },
     "execution_count": 53,
     "metadata": {},
     "output_type": "execute_result"
    }
   ],
   "source": [
    "video_df = pd.DataFrame(videos_data)\n",
    "video_df.to_csv('trending.csv', index=None)\n",
    "video_df.head(10)"
   ]
  },
  {
   "cell_type": "markdown",
   "id": "bcb57540",
   "metadata": {},
   "source": [
    "# Conclusion\n",
    "We have scrapped the required data from youtube and save it to a CSV file. ALso we can see the data in pandas dataframe. "
   ]
  },
  {
   "cell_type": "markdown",
   "id": "6ee77639",
   "metadata": {},
   "source": [
    "## References\n",
    "\n",
    "  - Selenium Tutorial - https://www.browserstack.com/guide/python-selenium-to-run-web-automation-test\n",
    "  - "
   ]
  }
 ],
 "metadata": {
  "kernelspec": {
   "display_name": "Python 3",
   "language": "python",
   "name": "python3"
  },
  "language_info": {
   "codemirror_mode": {
    "name": "ipython",
    "version": 3
   },
   "file_extension": ".py",
   "mimetype": "text/x-python",
   "name": "python",
   "nbconvert_exporter": "python",
   "pygments_lexer": "ipython3",
   "version": "3.8.8"
  }
 },
 "nbformat": 4,
 "nbformat_minor": 5
}
